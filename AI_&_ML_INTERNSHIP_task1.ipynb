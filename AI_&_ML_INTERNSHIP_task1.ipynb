{
  "nbformat": 4,
  "nbformat_minor": 0,
  "metadata": {
    "colab": {
      "provenance": [],
      "authorship_tag": "ABX9TyPAEmlVf0y1ZoCtPcOehlmu",
      "include_colab_link": true
    },
    "kernelspec": {
      "name": "python3",
      "display_name": "Python 3"
    },
    "language_info": {
      "name": "python"
    }
  },
  "cells": [
    {
      "cell_type": "markdown",
      "metadata": {
        "id": "view-in-github",
        "colab_type": "text"
      },
      "source": [
        "<a href=\"https://colab.research.google.com/github/MNDL-27/aiml-intern/blob/main/AI_%26_ML_INTERNSHIP_task1.ipynb\" target=\"_parent\"><img src=\"https://colab.research.google.com/assets/colab-badge.svg\" alt=\"Open In Colab\"/></a>"
      ]
    },
    {
      "cell_type": "code",
      "execution_count": null,
      "metadata": {
        "id": "K0-7O480rAok"
      },
      "outputs": [],
      "source": [
        "import pandas as pd"
      ]
    },
    {
      "cell_type": "code",
      "source": [
        "file_path = '/content/Titanic-Dataset.xls'\n",
        "df = pd.read_csv(file_path)"
      ],
      "metadata": {
        "id": "J0UB0PGcrbEU"
      },
      "execution_count": null,
      "outputs": []
    },
    {
      "cell_type": "code",
      "source": [
        "print(df.head())"
      ],
      "metadata": {
        "colab": {
          "base_uri": "https://localhost:8080/"
        },
        "id": "a--ds7wMrggi",
        "outputId": "847e5014-c6e3-4f7b-afc3-2d3c105205e3"
      },
      "execution_count": null,
      "outputs": [
        {
          "output_type": "stream",
          "name": "stdout",
          "text": [
            "   PassengerId  Survived  Pclass  \\\n",
            "0            1         0       3   \n",
            "1            2         1       1   \n",
            "2            3         1       3   \n",
            "3            4         1       1   \n",
            "4            5         0       3   \n",
            "\n",
            "                                                Name     Sex   Age  SibSp  \\\n",
            "0                            Braund, Mr. Owen Harris    male  22.0      1   \n",
            "1  Cumings, Mrs. John Bradley (Florence Briggs Th...  female  38.0      1   \n",
            "2                             Heikkinen, Miss. Laina  female  26.0      0   \n",
            "3       Futrelle, Mrs. Jacques Heath (Lily May Peel)  female  35.0      1   \n",
            "4                           Allen, Mr. William Henry    male  35.0      0   \n",
            "\n",
            "   Parch            Ticket     Fare Cabin Embarked  \n",
            "0      0         A/5 21171   7.2500   NaN        S  \n",
            "1      0          PC 17599  71.2833   C85        C  \n",
            "2      0  STON/O2. 3101282   7.9250   NaN        S  \n",
            "3      0            113803  53.1000  C123        S  \n",
            "4      0            373450   8.0500   NaN        S  \n"
          ]
        }
      ]
    },
    {
      "cell_type": "code",
      "source": [
        "print(df.info())"
      ],
      "metadata": {
        "colab": {
          "base_uri": "https://localhost:8080/"
        },
        "id": "KEHMDibhrj5L",
        "outputId": "ab4c3759-8c26-4b49-c5f4-a3f71aac82a1"
      },
      "execution_count": null,
      "outputs": [
        {
          "output_type": "stream",
          "name": "stdout",
          "text": [
            "<class 'pandas.core.frame.DataFrame'>\n",
            "RangeIndex: 891 entries, 0 to 890\n",
            "Data columns (total 12 columns):\n",
            " #   Column       Non-Null Count  Dtype  \n",
            "---  ------       --------------  -----  \n",
            " 0   PassengerId  891 non-null    int64  \n",
            " 1   Survived     891 non-null    int64  \n",
            " 2   Pclass       891 non-null    int64  \n",
            " 3   Name         891 non-null    object \n",
            " 4   Sex          891 non-null    object \n",
            " 5   Age          714 non-null    float64\n",
            " 6   SibSp        891 non-null    int64  \n",
            " 7   Parch        891 non-null    int64  \n",
            " 8   Ticket       891 non-null    object \n",
            " 9   Fare         891 non-null    float64\n",
            " 10  Cabin        204 non-null    object \n",
            " 11  Embarked     889 non-null    object \n",
            "dtypes: float64(2), int64(5), object(5)\n",
            "memory usage: 83.7+ KB\n",
            "None\n"
          ]
        }
      ]
    },
    {
      "cell_type": "code",
      "source": [
        "print(df.isnull().sum())"
      ],
      "metadata": {
        "colab": {
          "base_uri": "https://localhost:8080/"
        },
        "id": "vVALr0_grmpB",
        "outputId": "655bc8d2-9b1d-42c1-d60f-c3139afcad62"
      },
      "execution_count": null,
      "outputs": [
        {
          "output_type": "stream",
          "name": "stdout",
          "text": [
            "PassengerId      0\n",
            "Survived         0\n",
            "Pclass           0\n",
            "Name             0\n",
            "Sex              0\n",
            "Age            177\n",
            "SibSp            0\n",
            "Parch            0\n",
            "Ticket           0\n",
            "Fare             0\n",
            "Cabin          687\n",
            "Embarked         2\n",
            "dtype: int64\n"
          ]
        }
      ]
    },
    {
      "cell_type": "code",
      "source": [
        "print(df.dtypes)"
      ],
      "metadata": {
        "colab": {
          "base_uri": "https://localhost:8080/"
        },
        "id": "w0JFRvxlrqRa",
        "outputId": "47334bb0-9699-42a0-d4e6-4a4e23016fd6"
      },
      "execution_count": null,
      "outputs": [
        {
          "output_type": "stream",
          "name": "stdout",
          "text": [
            "PassengerId      int64\n",
            "Survived         int64\n",
            "Pclass           int64\n",
            "Name            object\n",
            "Sex             object\n",
            "Age            float64\n",
            "SibSp            int64\n",
            "Parch            int64\n",
            "Ticket          object\n",
            "Fare           float64\n",
            "Cabin           object\n",
            "Embarked        object\n",
            "dtype: object\n"
          ]
        }
      ]
    },
    {
      "cell_type": "markdown",
      "source": [
        "The 'Age' column is skewed, using the median is a more robust approach."
      ],
      "metadata": {
        "id": "5LbDASIfummI"
      }
    },
    {
      "cell_type": "code",
      "source": [
        "mean_age = df['Age'].mean()\n",
        "print(f\"Mean Age: {mean_age}\")\n",
        "\n",
        "df['Age'].fillna(mean_age, inplace=True)\n",
        "print(df['Age'].isnull().sum())"
      ],
      "metadata": {
        "colab": {
          "base_uri": "https://localhost:8080/"
        },
        "id": "YDCk9znmr4Dt",
        "outputId": "aac30bae-d56d-4a4d-d292-3d8e588160ce"
      },
      "execution_count": null,
      "outputs": [
        {
          "output_type": "stream",
          "name": "stdout",
          "text": [
            "Mean Age: 29.69911764705882\n",
            "0\n"
          ]
        },
        {
          "output_type": "stream",
          "name": "stderr",
          "text": [
            "/tmp/ipython-input-2350114370.py:4: FutureWarning: A value is trying to be set on a copy of a DataFrame or Series through chained assignment using an inplace method.\n",
            "The behavior will change in pandas 3.0. This inplace method will never work because the intermediate object on which we are setting values always behaves as a copy.\n",
            "\n",
            "For example, when doing 'df[col].method(value, inplace=True)', try using 'df.method({col: value}, inplace=True)' or df[col] = df[col].method(value) instead, to perform the operation inplace on the original object.\n",
            "\n",
            "\n",
            "  df['Age'].fillna(mean_age, inplace=True)\n"
          ]
        }
      ]
    },
    {
      "cell_type": "markdown",
      "source": [
        "The 'Embarked' column in the dataset is categorical and might have missing values."
      ],
      "metadata": {
        "id": "ZBfCPfdWuUfJ"
      }
    },
    {
      "cell_type": "code",
      "source": [
        "embarked_mode = df['Embarked'].mode()[0]\n",
        "print(f\"Most Common Embarkation Port: {embarked_mode}\")\n",
        "\n",
        "\n",
        "df['Embarked'].fillna(embarked_mode, inplace=True)\n",
        "print(df['Embarked'].isnull().sum())"
      ],
      "metadata": {
        "colab": {
          "base_uri": "https://localhost:8080/"
        },
        "id": "jSLKqUXLsHhU",
        "outputId": "e809dab6-4a5c-422d-ae54-2ee44ae81d3a"
      },
      "execution_count": null,
      "outputs": [
        {
          "output_type": "stream",
          "name": "stdout",
          "text": [
            "Most Common Embarkation Port: S\n",
            "0\n"
          ]
        }
      ]
    },
    {
      "cell_type": "markdown",
      "source": [
        "Label Encoding to the 'Sex' column of the dataset."
      ],
      "metadata": {
        "id": "XvkUPP7ZuO8B"
      }
    },
    {
      "cell_type": "code",
      "source": [
        "df_encoded = df.copy()\n",
        "df_encoded['Sex_Encoded'] = df_encoded['Sex'].astype('category').cat.codes\n",
        "print(df_encoded[['Sex', 'Sex_Encoded']].head())"
      ],
      "metadata": {
        "colab": {
          "base_uri": "https://localhost:8080/"
        },
        "id": "g3XyGIgisW-l",
        "outputId": "7dee4339-60e1-440b-929e-da4ca4a41251"
      },
      "execution_count": null,
      "outputs": [
        {
          "output_type": "stream",
          "name": "stdout",
          "text": [
            "      Sex  Sex_Encoded\n",
            "0    male            1\n",
            "1  female            0\n",
            "2  female            0\n",
            "3  female            0\n",
            "4    male            1\n"
          ]
        }
      ]
    },
    {
      "cell_type": "markdown",
      "source": [
        "Applying StandardScaler to the 'Age' and 'Fare' columns of the dataset."
      ],
      "metadata": {
        "id": "h8fR1LEiuDHj"
      }
    },
    {
      "cell_type": "code",
      "source": [
        "from sklearn.preprocessing import StandardScaler\n",
        "\n",
        "scaler = StandardScaler()\n",
        "numerical_features = ['Age', 'Fare']\n",
        "df_processed = df_encoded.copy()\n",
        "\n",
        "df_processed[numerical_features] = scaler.fit_transform(df_processed[numerical_features])\n",
        "print(df_processed[numerical_features].head())\n",
        "\n",
        "print(f\"\\nNew Mean of Age: {df_processed['Age'].mean():.4f}\")\n",
        "print(f\"New Standard Deviation of Age: {df_processed['Age'].std():.4f}\")"
      ],
      "metadata": {
        "colab": {
          "base_uri": "https://localhost:8080/"
        },
        "id": "8JLj9mLOs2QQ",
        "outputId": "5b1c2e6c-ffb5-4809-e09c-581e4a0de91d"
      },
      "execution_count": null,
      "outputs": [
        {
          "output_type": "stream",
          "name": "stdout",
          "text": [
            "        Age      Fare\n",
            "0 -0.592481 -0.502445\n",
            "1  0.638789  0.786845\n",
            "2 -0.284663 -0.488854\n",
            "3  0.407926  0.420730\n",
            "4  0.407926 -0.486337\n",
            "\n",
            "New Mean of Age: 0.0000\n",
            "New Standard Deviation of Age: 1.0006\n"
          ]
        }
      ]
    },
    {
      "cell_type": "markdown",
      "source": [
        "Using Scikit-learn"
      ],
      "metadata": {
        "id": "-NRWi--Tt8WI"
      }
    },
    {
      "cell_type": "code",
      "source": [
        "from sklearn.preprocessing import MinMaxScaler\n",
        "min_max_scaler = MinMaxScaler()\n",
        "\n",
        "df_normalized = df_encoded.copy()\n",
        "df_normalized[numerical_features] = min_max_scaler.fit_transform(df_normalized[numerical_features])\n",
        "\n",
        "print(df_normalized[numerical_features].head())\n",
        "print(f\"\\nNew Min of Age: {df_normalized['Age'].min():.4f}\")\n",
        "print(f\"New Max of Age: {df_normalized['Age'].max():.4f}\")"
      ],
      "metadata": {
        "colab": {
          "base_uri": "https://localhost:8080/"
        },
        "id": "xWGF-tzotF0W",
        "outputId": "06ef0e36-a9bf-4f33-a1fd-6bddcd3e2ba1"
      },
      "execution_count": null,
      "outputs": [
        {
          "output_type": "stream",
          "name": "stdout",
          "text": [
            "        Age      Fare\n",
            "0  0.271174  0.014151\n",
            "1  0.472229  0.139136\n",
            "2  0.321438  0.015469\n",
            "3  0.434531  0.103644\n",
            "4  0.434531  0.015713\n",
            "\n",
            "New Min of Age: 0.0000\n",
            "New Max of Age: 1.0000\n"
          ]
        }
      ]
    },
    {
      "cell_type": "markdown",
      "source": [
        "Visualising the 'Fare' and 'Age' columns from the Titanic dataset to check for outliers."
      ],
      "metadata": {
        "id": "ZZlqovA9tooN"
      }
    },
    {
      "cell_type": "code",
      "source": [
        "import matplotlib.pyplot as plt\n",
        "import seaborn as sns\n",
        "\n",
        "\n",
        "df_cleaned = df_encoded.copy()\n",
        "plt.figure(figsize=(12, 6))\n",
        "\n",
        "plt.subplot(1, 2, 1)\n",
        "sns.boxplot(y=df_cleaned['Fare'])\n",
        "plt.title('Boxplot of Fare')\n",
        "plt.ylabel('Fare')\n",
        "plt.subplot(1, 2, 2)\n",
        "sns.boxplot(y=df_cleaned['Age'])\n",
        "plt.title('Boxplot of Age')\n",
        "plt.ylabel('Age')\n",
        "plt.tight_layout()\n",
        "plt.savefig('outlier_boxplots.png')"
      ],
      "metadata": {
        "colab": {
          "base_uri": "https://localhost:8080/",
          "height": 607
        },
        "id": "sVuHohk_tSu7",
        "outputId": "d1e57828-5427-43e1-a957-332f037ca554"
      },
      "execution_count": null,
      "outputs": [
        {
          "output_type": "display_data",
          "data": {
            "text/plain": [
              "<Figure size 1200x600 with 2 Axes>"
            ],
            "image/png": "[encoded data removed]"
          },
          "metadata": {}
        }
      ]
    },
    {
      "cell_type": "markdown",
      "source": [
        "Remove the outliers from the 'Fare' column."
      ],
      "metadata": {
        "id": "8a7_I75LtkZa"
      }
    },
    {
      "cell_type": "code",
      "source": [
        "Q1 = df_cleaned['Fare'].quantile(0.25)\n",
        "Q3 = df_cleaned['Fare'].quantile(0.75)\n",
        "IQR = Q3 - Q1\n",
        "\n",
        "lower_bound = Q1 - 1.5 * IQR\n",
        "upper_bound = Q3 + 1.5 * IQR\n",
        "\n",
        "print(f\"Original DataFrame shape: {df_cleaned.shape}\")\n",
        "print(f\"Fare outliers will be values below {lower_bound:.2f} and above {upper_bound:.2f}\")\n",
        "\n",
        "df_no_outliers = df_cleaned[(df_cleaned['Fare'] >= lower_bound) & (df_cleaned['Fare'] <= upper_bound)]\n",
        "\n",
        "print(f\"New DataFrame shape after removing outliers: {df_no_outliers.shape}\")"
      ],
      "metadata": {
        "colab": {
          "base_uri": "https://localhost:8080/"
        },
        "id": "BTOYMlxktcET",
        "outputId": "18834c98-0300-4a14-bc6d-618c62ce503e"
      },
      "execution_count": null,
      "outputs": [
        {
          "output_type": "stream",
          "name": "stdout",
          "text": [
            "Original DataFrame shape: (891, 13)\n",
            "Fare outliers will be values below -26.72 and above 65.63\n",
            "New DataFrame shape after removing outliers: (775, 13)\n"
          ]
        }
      ]
    }
  ]
}